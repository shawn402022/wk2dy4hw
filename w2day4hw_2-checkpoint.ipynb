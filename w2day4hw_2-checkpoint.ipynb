{
 "cells": [
  {
   "cell_type": "markdown",
   "id": "03155e2c",
   "metadata": {},
   "source": [
    "# Exercise 2 - Write a Python class which has two methods get_String and print_String. get_String accept a string from the user and print_String print the string in upper casem"
   ]
  },
  {
   "cell_type": "code",
   "execution_count": 11,
   "id": "8e5c458a",
   "metadata": {},
   "outputs": [
    {
     "data": {
      "text/plain": [
       "<__main__.getString at 0x1b8f27b7d00>"
      ]
     },
     "execution_count": 11,
     "metadata": {},
     "output_type": "execute_result"
    }
   ],
   "source": [
    "class getString():\n",
    "\n",
    "    def __init__(self,inpt,outpt):\n",
    "        self.inpt=inpt\n",
    "        self.outpt=outpt\n",
    "        \n",
    "        \n",
    "    \n",
    "    def aString():\n",
    "        text=input('what time is it')\n",
    "        \n",
    "    def pString():\n",
    "        print(text)\n",
    "        \n",
    "getString(\"string_in\",\"string_out\")\n",
    "    \n",
    "    "
   ]
  }
 ],
 "metadata": {
  "kernelspec": {
   "display_name": "Python 3 (ipykernel)",
   "language": "python",
   "name": "python3"
  },
  "language_info": {
   "codemirror_mode": {
    "name": "ipython",
    "version": 3
   },
   "file_extension": ".py",
   "mimetype": "text/x-python",
   "name": "python",
   "nbconvert_exporter": "python",
   "pygments_lexer": "ipython3",
   "version": "3.9.12"
  }
 },
 "nbformat": 4,
 "nbformat_minor": 5
}
